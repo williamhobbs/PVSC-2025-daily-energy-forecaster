{
 "cells": [
  {
   "cell_type": "markdown",
   "id": "c27760ec",
   "metadata": {},
   "source": [
    "This notebook:\n",
    "1. reads in .csv files with specs and timeseries power that came from [Get_ERCOT_EIA_Data.ipynb](Get_ERCOT_EIA_Data.ipynb)\n",
    "2. converts specs from EIA and ERCOT into modeling parameters\n",
    "3. makes forecasts \n",
    "\n",
    "It is based on https://github.com/williamhobbs/PVPMC_2025/blob/main/Process_Specs_and_Data.ipynb.\n",
    "\n",
    "For now, I'm leaving out the parameter optimization (gcr, loss factor, gamma pdc) for this forecasting project."
   ]
  },
  {
   "cell_type": "markdown",
   "id": "66281f71",
   "metadata": {},
   "source": [
    "Note on IFS: 20240305 appears to be the first day that IFS has the parameters we need, so queries will start on the following Sunday (202240310)"
   ]
  },
  {
   "cell_type": "code",
   "execution_count": 2,
   "id": "d06c8c46",
   "metadata": {},
   "outputs": [],
   "source": [
    "import pandas as pd\n",
    "import glob\n",
    "import os\n",
    "import datetime\n",
    "# import pvlib\n",
    "from pv_model import model_pv_power\n",
    "from forecast_solar import get_solar_forecast_fast, get_solar_forecast_ensemble, get_solar_forecast_ensemble_subset\n",
    "import matplotlib.pyplot as plt\n",
    "# import scipy\n",
    "import numpy as np"
   ]
  },
  {
   "cell_type": "markdown",
   "id": "5b6e6df1",
   "metadata": {},
   "source": [
    "Read in specs that were processed and aggregated in the last notebook"
   ]
  },
  {
   "cell_type": "code",
   "execution_count": 3,
   "id": "04c7d7c4",
   "metadata": {},
   "outputs": [
    {
     "data": {
      "text/html": [
       "<div>\n",
       "<style scoped>\n",
       "    .dataframe tbody tr th:only-of-type {\n",
       "        vertical-align: middle;\n",
       "    }\n",
       "\n",
       "    .dataframe tbody tr th {\n",
       "        vertical-align: top;\n",
       "    }\n",
       "\n",
       "    .dataframe thead th {\n",
       "        text-align: right;\n",
       "    }\n",
       "</style>\n",
       "<table border=\"1\" class=\"dataframe\">\n",
       "  <thead>\n",
       "    <tr style=\"text-align: right;\">\n",
       "      <th></th>\n",
       "      <th>0</th>\n",
       "      <th>1</th>\n",
       "      <th>2</th>\n",
       "      <th>3</th>\n",
       "      <th>4</th>\n",
       "      <th>5</th>\n",
       "      <th>6</th>\n",
       "      <th>7</th>\n",
       "      <th>8</th>\n",
       "      <th>9</th>\n",
       "      <th>10</th>\n",
       "      <th>11</th>\n",
       "      <th>12</th>\n",
       "      <th>13</th>\n",
       "      <th>14</th>\n",
       "      <th>15</th>\n",
       "      <th>16</th>\n",
       "      <th>17</th>\n",
       "      <th>18</th>\n",
       "      <th>19</th>\n",
       "    </tr>\n",
       "  </thead>\n",
       "  <tbody>\n",
       "    <tr>\n",
       "      <th>latitude</th>\n",
       "      <td>32.811041</td>\n",
       "      <td>31.719983</td>\n",
       "      <td>33.021601</td>\n",
       "      <td>31.888</td>\n",
       "      <td>31.255</td>\n",
       "      <td>33.404486</td>\n",
       "      <td>30.4214</td>\n",
       "      <td>28.883196</td>\n",
       "      <td>31.435932</td>\n",
       "      <td>31.030996</td>\n",
       "      <td>32.104125</td>\n",
       "      <td>33.467803</td>\n",
       "      <td>32.4744</td>\n",
       "      <td>32.460054</td>\n",
       "      <td>32.533273</td>\n",
       "      <td>34.380532</td>\n",
       "      <td>26.090103</td>\n",
       "      <td>33.261505</td>\n",
       "      <td>29.271667</td>\n",
       "      <td>29.242304</td>\n",
       "    </tr>\n",
       "    <tr>\n",
       "      <th>longitude</th>\n",
       "      <td>-99.91749</td>\n",
       "      <td>-104.442292</td>\n",
       "      <td>-99.61463</td>\n",
       "      <td>-100.825</td>\n",
       "      <td>-102.272</td>\n",
       "      <td>-96.082472</td>\n",
       "      <td>-97.4614</td>\n",
       "      <td>-99.178605</td>\n",
       "      <td>-99.796613</td>\n",
       "      <td>-102.488209</td>\n",
       "      <td>-100.162375</td>\n",
       "      <td>-95.370856</td>\n",
       "      <td>-95.7156</td>\n",
       "      <td>-102.672809</td>\n",
       "      <td>-96.428985</td>\n",
       "      <td>-100.099625</td>\n",
       "      <td>-97.798453</td>\n",
       "      <td>-97.238057</td>\n",
       "      <td>-98.444722</td>\n",
       "      <td>-95.658144</td>\n",
       "    </tr>\n",
       "    <tr>\n",
       "      <th>nameplate_dc</th>\n",
       "      <td>131.5944</td>\n",
       "      <td>256.362179</td>\n",
       "      <td>94.507156</td>\n",
       "      <td>130.434783</td>\n",
       "      <td>234.0</td>\n",
       "      <td>170.854369</td>\n",
       "      <td>186.0</td>\n",
       "      <td>176.0</td>\n",
       "      <td>319.0</td>\n",
       "      <td>172.362353</td>\n",
       "      <td>143.08</td>\n",
       "      <td>260.0</td>\n",
       "      <td>82.098305</td>\n",
       "      <td>133.931</td>\n",
       "      <td>182.009816</td>\n",
       "      <td>165.306333</td>\n",
       "      <td>184.861111</td>\n",
       "      <td>191.275636</td>\n",
       "      <td>53.936118</td>\n",
       "      <td>162.4</td>\n",
       "    </tr>\n",
       "    <tr>\n",
       "      <th>nameplate_ac</th>\n",
       "      <td>100.8</td>\n",
       "      <td>188.2</td>\n",
       "      <td>74.9</td>\n",
       "      <td>100.0</td>\n",
       "      <td>180.0</td>\n",
       "      <td>125.7</td>\n",
       "      <td>144.0</td>\n",
       "      <td>132.4</td>\n",
       "      <td>250.0</td>\n",
       "      <td>126.3</td>\n",
       "      <td>102.2</td>\n",
       "      <td>198.5</td>\n",
       "      <td>59.8</td>\n",
       "      <td>100.7</td>\n",
       "      <td>147.6</td>\n",
       "      <td>121.4</td>\n",
       "      <td>137.5</td>\n",
       "      <td>148.8</td>\n",
       "      <td>39.2</td>\n",
       "      <td>120.0</td>\n",
       "    </tr>\n",
       "    <tr>\n",
       "      <th>mount_type</th>\n",
       "      <td>single-axis</td>\n",
       "      <td>single-axis</td>\n",
       "      <td>single-axis</td>\n",
       "      <td>single-axis</td>\n",
       "      <td>single-axis</td>\n",
       "      <td>single-axis</td>\n",
       "      <td>single-axis</td>\n",
       "      <td>single-axis</td>\n",
       "      <td>single-axis</td>\n",
       "      <td>single-axis</td>\n",
       "      <td>single-axis</td>\n",
       "      <td>single-axis</td>\n",
       "      <td>single-axis</td>\n",
       "      <td>single-axis</td>\n",
       "      <td>single-axis</td>\n",
       "      <td>single-axis</td>\n",
       "      <td>single-axis</td>\n",
       "      <td>single-axis</td>\n",
       "      <td>single-axis</td>\n",
       "      <td>single-axis</td>\n",
       "    </tr>\n",
       "  </tbody>\n",
       "</table>\n",
       "</div>"
      ],
      "text/plain": [
       "                       0            1            2            3            4   \\\n",
       "latitude        32.811041    31.719983    33.021601       31.888       31.255   \n",
       "longitude       -99.91749  -104.442292    -99.61463     -100.825     -102.272   \n",
       "nameplate_dc     131.5944   256.362179    94.507156   130.434783        234.0   \n",
       "nameplate_ac        100.8        188.2         74.9        100.0        180.0   \n",
       "mount_type    single-axis  single-axis  single-axis  single-axis  single-axis   \n",
       "\n",
       "                       5            6            7            8            9   \\\n",
       "latitude        33.404486      30.4214    28.883196    31.435932    31.030996   \n",
       "longitude      -96.082472     -97.4614   -99.178605   -99.796613  -102.488209   \n",
       "nameplate_dc   170.854369        186.0        176.0        319.0   172.362353   \n",
       "nameplate_ac        125.7        144.0        132.4        250.0        126.3   \n",
       "mount_type    single-axis  single-axis  single-axis  single-axis  single-axis   \n",
       "\n",
       "                       10           11           12           13           14  \\\n",
       "latitude        32.104125    33.467803      32.4744    32.460054    32.533273   \n",
       "longitude     -100.162375   -95.370856     -95.7156  -102.672809   -96.428985   \n",
       "nameplate_dc       143.08        260.0    82.098305      133.931   182.009816   \n",
       "nameplate_ac        102.2        198.5         59.8        100.7        147.6   \n",
       "mount_type    single-axis  single-axis  single-axis  single-axis  single-axis   \n",
       "\n",
       "                       15           16           17           18           19  \n",
       "latitude        34.380532    26.090103    33.261505    29.271667    29.242304  \n",
       "longitude     -100.099625   -97.798453   -97.238057   -98.444722   -95.658144  \n",
       "nameplate_dc   165.306333   184.861111   191.275636    53.936118        162.4  \n",
       "nameplate_ac        121.4        137.5        148.8         39.2        120.0  \n",
       "mount_type    single-axis  single-axis  single-axis  single-axis  single-axis  "
      ]
     },
     "execution_count": 3,
     "metadata": {},
     "output_type": "execute_result"
    }
   ],
   "source": [
    "folder = 'output_specs' \n",
    "filename = 'agg_specs_orig_df.pkl'\n",
    "file_to_read = os.path.join(folder, filename)\n",
    "agg_specs_orig_df = pd.read_pickle(file_to_read)\n",
    "agg_specs_orig_df.head()"
   ]
  },
  {
   "cell_type": "code",
   "execution_count": 4,
   "id": "38b36c50",
   "metadata": {},
   "outputs": [
    {
     "data": {
      "text/plain": [
       "20"
      ]
     },
     "execution_count": 4,
     "metadata": {},
     "output_type": "execute_result"
    }
   ],
   "source": [
    "num_plants = len(agg_specs_orig_df)\n",
    "num_plants"
   ]
  },
  {
   "cell_type": "markdown",
   "id": "27d4cff4",
   "metadata": {},
   "source": [
    "Now, let's make *ensemble* forecasts.\n",
    "\n",
    "The full range will use:\n",
    "\n",
    "```python\n",
    "dates = pd.date_range(start = '2024-03-10 12:00', end = '2025-03-02 12:00', freq = '7D')\n",
    "```\n",
    "\n",
    "but we can start with a shorter range."
   ]
  },
  {
   "cell_type": "code",
   "execution_count": 5,
   "id": "3a079875",
   "metadata": {},
   "outputs": [],
   "source": [
    "latitudes = agg_specs_orig_df.loc['latitude'].to_list()\n",
    "longitudes = agg_specs_orig_df.loc['longitude'].to_list()\n",
    "\n",
    "dates = pd.date_range(start = '2024-03-10 12:00', end = '2025-03-02 12:00', freq = '7D')\n",
    "\n",
    "# dates = pd.date_range(start = '2024-03-10 12:00', end = '2024-03-11 12:00', freq = '7D')\n",
    "run_length = 168\n",
    "# run_length = 18\n",
    "lead_time_to_start = 24\n",
    "# num_members = 10\n",
    "attempts = 20"
   ]
  },
  {
   "cell_type": "code",
   "execution_count": 6,
   "id": "7ea20ce7",
   "metadata": {},
   "outputs": [
    {
     "name": "stdout",
     "output_type": "stream",
     "text": [
      "done with init_time: 2024-03-10 12:00:00\n",
      "done with init_time: 2024-03-17 12:00:00\n"
     ]
    },
    {
     "name": "stderr",
     "output_type": "stream",
     "text": [
      "Exception has occured : ('Connection aborted.', ConnectionResetError(10054, 'An existing connection was forcibly closed by the remote host', None, 10054, None))\n",
      "Exception has occured : ('Connection aborted.', ConnectionResetError(10054, 'An existing connection was forcibly closed by the remote host', None, 10054, None))\n"
     ]
    },
    {
     "name": "stdout",
     "output_type": "stream",
     "text": [
      "done with init_time: 2024-03-24 12:00:00\n",
      "done with init_time: 2024-03-31 12:00:00\n",
      "done with init_time: 2024-04-07 12:00:00\n",
      "done with init_time: 2024-04-14 12:00:00\n",
      "done with init_time: 2024-04-21 12:00:00\n",
      "done with init_time: 2024-04-28 12:00:00\n"
     ]
    },
    {
     "name": "stderr",
     "output_type": "stream",
     "text": [
      "Exception has occured : ('Connection aborted.', ConnectionResetError(10054, 'An existing connection was forcibly closed by the remote host', None, 10054, None))\n"
     ]
    },
    {
     "name": "stdout",
     "output_type": "stream",
     "text": [
      "done with init_time: 2024-05-05 12:00:00\n",
      "done with init_time: 2024-05-12 12:00:00\n"
     ]
    },
    {
     "name": "stderr",
     "output_type": "stream",
     "text": [
      "Exception has occured : ('Connection aborted.', ConnectionResetError(10054, 'An existing connection was forcibly closed by the remote host', None, 10054, None))\n",
      "Exception has occured : ('Connection aborted.', ConnectionResetError(10054, 'An existing connection was forcibly closed by the remote host', None, 10054, None))\n"
     ]
    },
    {
     "name": "stdout",
     "output_type": "stream",
     "text": [
      "done with init_time: 2024-05-19 12:00:00\n",
      "done with init_time: 2024-05-26 12:00:00\n"
     ]
    },
    {
     "name": "stderr",
     "output_type": "stream",
     "text": [
      "Exception has occured : ('Connection aborted.', ConnectionResetError(10054, 'An existing connection was forcibly closed by the remote host', None, 10054, None))\n",
      "Exception has occured : HTTPSConnectionPool(host='ai4edataeuwest.blob.core.windows.net', port=443): Read timed out. (read timeout=None)\n"
     ]
    },
    {
     "name": "stdout",
     "output_type": "stream",
     "text": [
      "done with init_time: 2024-06-02 12:00:00\n"
     ]
    },
    {
     "name": "stderr",
     "output_type": "stream",
     "text": [
      "Exception has occured : HTTPSConnectionPool(host='ai4edataeuwest.blob.core.windows.net', port=443): Read timed out. (read timeout=None)\n",
      "Exception has occured : HTTPSConnectionPool(host='ai4edataeuwest.blob.core.windows.net', port=443): Read timed out. (read timeout=None)\n",
      "Exception has occured : HTTPSConnectionPool(host='ai4edataeuwest.blob.core.windows.net', port=443): Read timed out. (read timeout=None)\n",
      "Exception has occured : HTTPSConnectionPool(host='ai4edataeuwest.blob.core.windows.net', port=443): Read timed out. (read timeout=None)\n",
      "Exception has occured : HTTPSConnectionPool(host='ai4edataeuwest.blob.core.windows.net', port=443): Read timed out. (read timeout=None)\n",
      "Exception has occured : HTTPSConnectionPool(host='ai4edataeuwest.blob.core.windows.net', port=443): Read timed out. (read timeout=None)\n",
      "Exception has occured : HTTPSConnectionPool(host='ai4edataeuwest.blob.core.windows.net', port=443): Read timed out. (read timeout=None)\n",
      "Exception has occured : HTTPSConnectionPool(host='ai4edataeuwest.blob.core.windows.net', port=443): Read timed out. (read timeout=None)\n",
      "Exception has occured : HTTPSConnectionPool(host='ai4edataeuwest.blob.core.windows.net', port=443): Read timed out. (read timeout=None)\n",
      "Exception has occured : HTTPSConnectionPool(host='ai4edataeuwest.blob.core.windows.net', port=443): Read timed out. (read timeout=None)\n",
      "Exception has occured : HTTPSConnectionPool(host='ai4edataeuwest.blob.core.windows.net', port=443): Read timed out. (read timeout=None)\n",
      "Exception has occured : HTTPSConnectionPool(host='ai4edataeuwest.blob.core.windows.net', port=443): Read timed out. (read timeout=None)\n",
      "Exception has occured : HTTPSConnectionPool(host='ai4edataeuwest.blob.core.windows.net', port=443): Read timed out. (read timeout=None)\n",
      "Exception has occured : HTTPSConnectionPool(host='ai4edataeuwest.blob.core.windows.net', port=443): Read timed out. (read timeout=None)\n",
      "Exception has occured : HTTPSConnectionPool(host='ai4edataeuwest.blob.core.windows.net', port=443): Read timed out. (read timeout=None)\n",
      "Exception has occured : HTTPSConnectionPool(host='ai4edataeuwest.blob.core.windows.net', port=443): Read timed out. (read timeout=None)\n",
      "Exception has occured : HTTPSConnectionPool(host='ai4edataeuwest.blob.core.windows.net', port=443): Read timed out. (read timeout=None)\n",
      "Exception has occured : HTTPSConnectionPool(host='ai4edataeuwest.blob.core.windows.net', port=443): Read timed out. (read timeout=None)\n",
      "Exception has occured : HTTPSConnectionPool(host='ai4edataeuwest.blob.core.windows.net', port=443): Read timed out. (read timeout=None)\n",
      "Exception has occured : HTTPSConnectionPool(host='ai4edataeuwest.blob.core.windows.net', port=443): Read timed out. (read timeout=None)\n"
     ]
    },
    {
     "name": "stdout",
     "output_type": "stream",
     "text": [
      "done with init_time: 2024-06-09 12:00:00\n"
     ]
    },
    {
     "name": "stderr",
     "output_type": "stream",
     "text": [
      "Exception has occured : ('Connection aborted.', ConnectionResetError(10054, 'An existing connection was forcibly closed by the remote host', None, 10054, None))\n"
     ]
    },
    {
     "name": "stdout",
     "output_type": "stream",
     "text": [
      "done with init_time: 2024-06-16 12:00:00\n",
      "done with init_time: 2024-06-23 12:00:00\n",
      "done with init_time: 2024-06-30 12:00:00\n",
      "done with init_time: 2024-07-07 12:00:00\n",
      "done with init_time: 2024-07-14 12:00:00\n",
      "done with init_time: 2024-07-21 12:00:00\n"
     ]
    },
    {
     "name": "stderr",
     "output_type": "stream",
     "text": [
      "Exception has occured : ('Connection aborted.', ConnectionResetError(10054, 'An existing connection was forcibly closed by the remote host', None, 10054, None))\n"
     ]
    },
    {
     "name": "stdout",
     "output_type": "stream",
     "text": [
      "done with init_time: 2024-07-28 12:00:00\n"
     ]
    },
    {
     "name": "stderr",
     "output_type": "stream",
     "text": [
      "Exception has occured : ('Connection aborted.', ConnectionResetError(10054, 'An existing connection was forcibly closed by the remote host', None, 10054, None))\n",
      "Exception has occured : ('Connection aborted.', ConnectionResetError(10054, 'An existing connection was forcibly closed by the remote host', None, 10054, None))\n",
      "Exception has occured : ('Connection aborted.', ConnectionResetError(10054, 'An existing connection was forcibly closed by the remote host', None, 10054, None))\n"
     ]
    },
    {
     "name": "stdout",
     "output_type": "stream",
     "text": [
      "done with init_time: 2024-08-04 12:00:00\n"
     ]
    },
    {
     "name": "stderr",
     "output_type": "stream",
     "text": [
      "Exception has occured : ('Connection aborted.', ConnectionResetError(10054, 'An existing connection was forcibly closed by the remote host', None, 10054, None))\n"
     ]
    },
    {
     "name": "stdout",
     "output_type": "stream",
     "text": [
      "done with init_time: 2024-08-11 12:00:00\n",
      "done with init_time: 2024-08-18 12:00:00\n",
      "done with init_time: 2024-08-25 12:00:00\n"
     ]
    },
    {
     "name": "stderr",
     "output_type": "stream",
     "text": [
      "Exception has occured : ('Connection aborted.', ConnectionResetError(10054, 'An existing connection was forcibly closed by the remote host', None, 10054, None))\n"
     ]
    },
    {
     "name": "stdout",
     "output_type": "stream",
     "text": [
      "done with init_time: 2024-09-01 12:00:00\n",
      "done with init_time: 2024-09-08 12:00:00\n",
      "done with init_time: 2024-09-15 12:00:00\n"
     ]
    },
    {
     "name": "stderr",
     "output_type": "stream",
     "text": [
      "Exception has occured : ('Connection aborted.', ConnectionResetError(10054, 'An existing connection was forcibly closed by the remote host', None, 10054, None))\n"
     ]
    },
    {
     "name": "stdout",
     "output_type": "stream",
     "text": [
      "done with init_time: 2024-09-22 12:00:00\n",
      "done with init_time: 2024-09-29 12:00:00\n"
     ]
    },
    {
     "name": "stderr",
     "output_type": "stream",
     "text": [
      "Exception has occured : ('Connection aborted.', ConnectionResetError(10054, 'An existing connection was forcibly closed by the remote host', None, 10054, None))\n"
     ]
    },
    {
     "name": "stdout",
     "output_type": "stream",
     "text": [
      "done with init_time: 2024-10-06 12:00:00\n"
     ]
    },
    {
     "name": "stderr",
     "output_type": "stream",
     "text": [
      "Exception has occured : ('Connection aborted.', ConnectionResetError(10054, 'An existing connection was forcibly closed by the remote host', None, 10054, None))\n"
     ]
    },
    {
     "name": "stdout",
     "output_type": "stream",
     "text": [
      "done with init_time: 2024-10-13 12:00:00\n",
      "done with init_time: 2024-10-20 12:00:00\n",
      "done with init_time: 2024-10-27 12:00:00\n"
     ]
    },
    {
     "name": "stderr",
     "output_type": "stream",
     "text": [
      "Exception has occured : ('Connection aborted.', ConnectionResetError(10054, 'An existing connection was forcibly closed by the remote host', None, 10054, None))\n"
     ]
    },
    {
     "name": "stdout",
     "output_type": "stream",
     "text": [
      "done with init_time: 2024-11-03 12:00:00\n",
      "done with init_time: 2024-11-10 12:00:00\n"
     ]
    },
    {
     "name": "stderr",
     "output_type": "stream",
     "text": [
      "Exception has occured : ('Connection aborted.', ConnectionResetError(10054, 'An existing connection was forcibly closed by the remote host', None, 10054, None))\n",
      "Exception has occured : ('Connection aborted.', ConnectionResetError(10054, 'An existing connection was forcibly closed by the remote host', None, 10054, None))\n"
     ]
    },
    {
     "name": "stdout",
     "output_type": "stream",
     "text": [
      "done with init_time: 2024-11-17 12:00:00\n",
      "done with init_time: 2024-11-24 12:00:00\n"
     ]
    },
    {
     "name": "stderr",
     "output_type": "stream",
     "text": [
      "Exception has occured : ('Connection aborted.', ConnectionResetError(10054, 'An existing connection was forcibly closed by the remote host', None, 10054, None))\n"
     ]
    },
    {
     "name": "stdout",
     "output_type": "stream",
     "text": [
      "done with init_time: 2024-12-01 12:00:00\n"
     ]
    },
    {
     "name": "stderr",
     "output_type": "stream",
     "text": [
      "Exception has occured : ('Connection aborted.', ConnectionResetError(10054, 'An existing connection was forcibly closed by the remote host', None, 10054, None))\n"
     ]
    },
    {
     "name": "stdout",
     "output_type": "stream",
     "text": [
      "done with init_time: 2024-12-08 12:00:00\n",
      "done with init_time: 2024-12-15 12:00:00\n"
     ]
    },
    {
     "name": "stderr",
     "output_type": "stream",
     "text": [
      "Exception has occured : ('Connection aborted.', ConnectionResetError(10054, 'An existing connection was forcibly closed by the remote host', None, 10054, None))\n",
      "Exception has occured : ('Connection aborted.', ConnectionResetError(10054, 'An existing connection was forcibly closed by the remote host', None, 10054, None))\n",
      "Exception has occured : ('Connection aborted.', ConnectionResetError(10054, 'An existing connection was forcibly closed by the remote host', None, 10054, None))\n",
      "Exception has occured : ('Connection aborted.', ConnectionResetError(10054, 'An existing connection was forcibly closed by the remote host', None, 10054, None))\n",
      "Exception has occured : ('Connection aborted.', ConnectionResetError(10054, 'An existing connection was forcibly closed by the remote host', None, 10054, None))\n"
     ]
    },
    {
     "name": "stdout",
     "output_type": "stream",
     "text": [
      "done with init_time: 2024-12-22 12:00:00\n"
     ]
    },
    {
     "name": "stderr",
     "output_type": "stream",
     "text": [
      "Exception has occured : ('Connection aborted.', ConnectionResetError(10054, 'An existing connection was forcibly closed by the remote host', None, 10054, None))\n",
      "Exception has occured : ('Connection aborted.', ConnectionResetError(10054, 'An existing connection was forcibly closed by the remote host', None, 10054, None))\n"
     ]
    },
    {
     "name": "stdout",
     "output_type": "stream",
     "text": [
      "attempt 1 failed, pause for 1.0 min\n",
      "attempt 1 failed, pause for 1.0 min\n",
      "done with init_time: 2024-12-29 12:00:00\n",
      "done with init_time: 2025-01-05 12:00:00\n",
      "done with init_time: 2025-01-12 12:00:00\n",
      "done with init_time: 2025-01-19 12:00:00\n"
     ]
    },
    {
     "name": "stderr",
     "output_type": "stream",
     "text": [
      "Exception has occured : ('Connection aborted.', ConnectionResetError(10054, 'An existing connection was forcibly closed by the remote host', None, 10054, None))\n",
      "Exception has occured : ('Connection aborted.', ConnectionResetError(10054, 'An existing connection was forcibly closed by the remote host', None, 10054, None))\n"
     ]
    },
    {
     "name": "stdout",
     "output_type": "stream",
     "text": [
      "done with init_time: 2025-01-26 12:00:00\n"
     ]
    },
    {
     "name": "stderr",
     "output_type": "stream",
     "text": [
      "Exception has occured : ('Connection aborted.', ConnectionResetError(10054, 'An existing connection was forcibly closed by the remote host', None, 10054, None))\n"
     ]
    },
    {
     "name": "stdout",
     "output_type": "stream",
     "text": [
      "done with init_time: 2025-02-02 12:00:00\n",
      "done with init_time: 2025-02-09 12:00:00\n"
     ]
    },
    {
     "name": "stderr",
     "output_type": "stream",
     "text": [
      "Exception has occured : ('Connection aborted.', ConnectionResetError(10054, 'An existing connection was forcibly closed by the remote host', None, 10054, None))\n",
      "Exception has occured : ('Connection aborted.', ConnectionResetError(10054, 'An existing connection was forcibly closed by the remote host', None, 10054, None))\n"
     ]
    },
    {
     "name": "stdout",
     "output_type": "stream",
     "text": [
      "done with init_time: 2025-02-16 12:00:00\n"
     ]
    },
    {
     "name": "stderr",
     "output_type": "stream",
     "text": [
      "Exception has occured : ('Connection aborted.', ConnectionResetError(10054, 'An existing connection was forcibly closed by the remote host', None, 10054, None))\n",
      "Exception has occured : ('Connection aborted.', ConnectionResetError(10054, 'An existing connection was forcibly closed by the remote host', None, 10054, None))\n",
      "Exception has occured : ('Connection aborted.', ConnectionResetError(10054, 'An existing connection was forcibly closed by the remote host', None, 10054, None))\n"
     ]
    },
    {
     "name": "stdout",
     "output_type": "stream",
     "text": [
      "done with init_time: 2025-02-23 12:00:00\n",
      "done with init_time: 2025-03-02 12:00:00\n"
     ]
    }
   ],
   "source": [
    "dfs = []\n",
    "for date in dates:\n",
    "    resource_data_temp = get_solar_forecast_ensemble(\n",
    "        latitude=latitudes,\n",
    "        longitude=longitudes,\n",
    "        init_date=date,\n",
    "        run_length=run_length,\n",
    "        lead_time_to_start=lead_time_to_start,\n",
    "        model='ifs',\n",
    "        attempts=attempts,\n",
    "        # num_members=num_members,\n",
    "    )\n",
    "    # add init_time as a column, then convert to index\n",
    "    resource_data_temp['init_time'] = date\n",
    "    resource_data_temp.set_index(['init_time', resource_data_temp.index], inplace=True)\n",
    "    dfs.append(resource_data_temp)\n",
    "    print('done with init_time: ' + str(date))\n",
    "\n",
    "resource_data_ens = pd.concat(dfs)\n",
    "resource_data_ens['albedo'] = 0.2 # fill in albedo data"
   ]
  },
  {
   "cell_type": "code",
   "execution_count": 7,
   "id": "efaa6c05",
   "metadata": {},
   "outputs": [],
   "source": [
    "resource_data_ens = pd.concat(dfs)\n",
    "resource_data_ens['albedo'] = 0.2 # fill in albedo data"
   ]
  },
  {
   "cell_type": "code",
   "execution_count": 8,
   "id": "7578f035",
   "metadata": {},
   "outputs": [
    {
     "data": {
      "text/html": [
       "<div>\n",
       "<style scoped>\n",
       "    .dataframe tbody tr th:only-of-type {\n",
       "        vertical-align: middle;\n",
       "    }\n",
       "\n",
       "    .dataframe tbody tr th {\n",
       "        vertical-align: top;\n",
       "    }\n",
       "\n",
       "    .dataframe thead th {\n",
       "        text-align: right;\n",
       "    }\n",
       "</style>\n",
       "<table border=\"1\" class=\"dataframe\">\n",
       "  <thead>\n",
       "    <tr style=\"text-align: right;\">\n",
       "      <th></th>\n",
       "      <th></th>\n",
       "      <th>ghi_csi</th>\n",
       "      <th>ghi</th>\n",
       "      <th>dni</th>\n",
       "      <th>dhi</th>\n",
       "      <th>ghi_clear</th>\n",
       "      <th>member</th>\n",
       "      <th>point</th>\n",
       "      <th>temp_air</th>\n",
       "      <th>wind_speed</th>\n",
       "      <th>albedo</th>\n",
       "    </tr>\n",
       "    <tr>\n",
       "      <th>init_time</th>\n",
       "      <th>valid_time</th>\n",
       "      <th></th>\n",
       "      <th></th>\n",
       "      <th></th>\n",
       "      <th></th>\n",
       "      <th></th>\n",
       "      <th></th>\n",
       "      <th></th>\n",
       "      <th></th>\n",
       "      <th></th>\n",
       "      <th></th>\n",
       "    </tr>\n",
       "  </thead>\n",
       "  <tbody>\n",
       "    <tr>\n",
       "      <th rowspan=\"5\" valign=\"top\">2024-03-10 12:00:00</th>\n",
       "      <th>2024-03-11 12:30:00+00:00</th>\n",
       "      <td>0.928330</td>\n",
       "      <td>0.000000</td>\n",
       "      <td>0.000000</td>\n",
       "      <td>0.000000</td>\n",
       "      <td>0.000000</td>\n",
       "      <td>1</td>\n",
       "      <td>0</td>\n",
       "      <td>7.621001</td>\n",
       "      <td>2</td>\n",
       "      <td>0.2</td>\n",
       "    </tr>\n",
       "    <tr>\n",
       "      <th>2024-03-11 13:30:00+00:00</th>\n",
       "      <td>0.928330</td>\n",
       "      <td>72.504496</td>\n",
       "      <td>156.945061</td>\n",
       "      <td>54.387953</td>\n",
       "      <td>78.102100</td>\n",
       "      <td>1</td>\n",
       "      <td>0</td>\n",
       "      <td>9.051828</td>\n",
       "      <td>2</td>\n",
       "      <td>0.2</td>\n",
       "    </tr>\n",
       "    <tr>\n",
       "      <th>2024-03-11 14:30:00+00:00</th>\n",
       "      <td>0.928330</td>\n",
       "      <td>276.400493</td>\n",
       "      <td>506.854800</td>\n",
       "      <td>111.988382</td>\n",
       "      <td>297.739588</td>\n",
       "      <td>1</td>\n",
       "      <td>0</td>\n",
       "      <td>10.482655</td>\n",
       "      <td>2</td>\n",
       "      <td>0.2</td>\n",
       "    </tr>\n",
       "    <tr>\n",
       "      <th>2024-03-11 15:30:00+00:00</th>\n",
       "      <td>1.016201</td>\n",
       "      <td>506.267942</td>\n",
       "      <td>778.527934</td>\n",
       "      <td>109.962433</td>\n",
       "      <td>498.196465</td>\n",
       "      <td>1</td>\n",
       "      <td>0</td>\n",
       "      <td>12.317902</td>\n",
       "      <td>2</td>\n",
       "      <td>0.2</td>\n",
       "    </tr>\n",
       "    <tr>\n",
       "      <th>2024-03-11 16:30:00+00:00</th>\n",
       "      <td>1.016201</td>\n",
       "      <td>670.212579</td>\n",
       "      <td>821.268263</td>\n",
       "      <td>130.759493</td>\n",
       "      <td>659.527318</td>\n",
       "      <td>1</td>\n",
       "      <td>0</td>\n",
       "      <td>14.571279</td>\n",
       "      <td>2</td>\n",
       "      <td>0.2</td>\n",
       "    </tr>\n",
       "  </tbody>\n",
       "</table>\n",
       "</div>"
      ],
      "text/plain": [
       "                                                ghi_csi         ghi  \\\n",
       "init_time           valid_time                                        \n",
       "2024-03-10 12:00:00 2024-03-11 12:30:00+00:00  0.928330    0.000000   \n",
       "                    2024-03-11 13:30:00+00:00  0.928330   72.504496   \n",
       "                    2024-03-11 14:30:00+00:00  0.928330  276.400493   \n",
       "                    2024-03-11 15:30:00+00:00  1.016201  506.267942   \n",
       "                    2024-03-11 16:30:00+00:00  1.016201  670.212579   \n",
       "\n",
       "                                                      dni         dhi  \\\n",
       "init_time           valid_time                                          \n",
       "2024-03-10 12:00:00 2024-03-11 12:30:00+00:00    0.000000    0.000000   \n",
       "                    2024-03-11 13:30:00+00:00  156.945061   54.387953   \n",
       "                    2024-03-11 14:30:00+00:00  506.854800  111.988382   \n",
       "                    2024-03-11 15:30:00+00:00  778.527934  109.962433   \n",
       "                    2024-03-11 16:30:00+00:00  821.268263  130.759493   \n",
       "\n",
       "                                                ghi_clear  member  point  \\\n",
       "init_time           valid_time                                             \n",
       "2024-03-10 12:00:00 2024-03-11 12:30:00+00:00    0.000000       1      0   \n",
       "                    2024-03-11 13:30:00+00:00   78.102100       1      0   \n",
       "                    2024-03-11 14:30:00+00:00  297.739588       1      0   \n",
       "                    2024-03-11 15:30:00+00:00  498.196465       1      0   \n",
       "                    2024-03-11 16:30:00+00:00  659.527318       1      0   \n",
       "\n",
       "                                                temp_air  wind_speed  albedo  \n",
       "init_time           valid_time                                                \n",
       "2024-03-10 12:00:00 2024-03-11 12:30:00+00:00   7.621001           2     0.2  \n",
       "                    2024-03-11 13:30:00+00:00   9.051828           2     0.2  \n",
       "                    2024-03-11 14:30:00+00:00  10.482655           2     0.2  \n",
       "                    2024-03-11 15:30:00+00:00  12.317902           2     0.2  \n",
       "                    2024-03-11 16:30:00+00:00  14.571279           2     0.2  "
      ]
     },
     "execution_count": 8,
     "metadata": {},
     "output_type": "execute_result"
    }
   ],
   "source": [
    "resource_data_ens[resource_data_ens['point']==0].head()"
   ]
  },
  {
   "cell_type": "code",
   "execution_count": 9,
   "id": "e54b6bc1",
   "metadata": {},
   "outputs": [],
   "source": [
    "start = resource_data_ens.reset_index()['init_time'].iloc[0].strftime('%Y%m%d')\n",
    "end = resource_data_ens.reset_index()['init_time'].iloc[-1].strftime('%Y%m%d')\n",
    "\n",
    "resource_data_ens.to_pickle('forecasts/resource_data_ens_' + start + '-' + end + '.pkl')\n",
    "resource_data_ens.to_csv('forecasts/resource_data_ens_' + start + '-' + end + '.csv')"
   ]
  },
  {
   "cell_type": "markdown",
   "id": "b399e821",
   "metadata": {},
   "source": [
    "Run this if needed to read the CSV back in:"
   ]
  },
  {
   "cell_type": "code",
   "execution_count": 1,
   "id": "29a21df6",
   "metadata": {},
   "outputs": [],
   "source": [
    "# resource_data_ens = pd.read_csv('forecasts/resource_data_ens.csv', parse_dates=['valid_time'], index_col='valid_time')"
   ]
  },
  {
   "cell_type": "markdown",
   "id": "812610e1",
   "metadata": {},
   "source": [
    "Now, let's model power using the resource forecasts to get power forecasts:"
   ]
  },
  {
   "cell_type": "code",
   "execution_count": null,
   "id": "9791539d",
   "metadata": {},
   "outputs": [],
   "source": [
    "# empty lists\n",
    "ens_temp_list = []\n",
    "\n",
    "for member in range(1, num_members+1):\n",
    "    for plant_number in range(num_plants):\n",
    "        # pull plant data\n",
    "        plant_data = agg_specs_orig_df[plant_number].to_dict()\n",
    "\n",
    "        # get the resource forecast for the plant\n",
    "        resource_fcast_ens = resource_data_ens[(resource_data_ens['point']==plant_number) \\\n",
    "            & (resource_data_ens['member']==member)]\n",
    "        \n",
    "        resource_fcast_ens = resource_fcast_ens.reset_index().set_index('valid_time')\n",
    "\n",
    "        # model power\n",
    "        power_fcasts_ens, _ = model_pv_power(resource_fcast_ens, **plant_data)\n",
    "\n",
    "        power_fcasts_ens.name = 'power'\n",
    "\n",
    "        # convert to dataframe and add 'point' (plant number)\n",
    "        power_fcasts_ens = power_fcasts_ens.to_frame()\n",
    "        power_fcasts_ens['point'] = plant_number\n",
    "        power_fcasts_ens['member'] = member\n",
    "\n",
    "        ens_temp_list.append(power_fcasts_ens)\n",
    "\n",
    "power_fcasts_ens_all = pd.concat(ens_temp_list)"
   ]
  },
  {
   "cell_type": "code",
   "execution_count": null,
   "id": "677ab369",
   "metadata": {},
   "outputs": [],
   "source": [
    "for member in range(1, num_members+1):\n",
    "    for plant_number in range(num_plants):\n",
    "        power_fcasts_ens_all[(power_fcasts_ens_all['member'] == member) & (power_fcasts_ens_all['point'] == plant_number)]['power'].plot(label=('ens mem ' + str(member)), drawstyle='steps-mid')"
   ]
  },
  {
   "cell_type": "markdown",
   "id": "8be20a6f",
   "metadata": {},
   "source": [
    "And write resulting dataframes to CSV and pickle files."
   ]
  },
  {
   "cell_type": "code",
   "execution_count": null,
   "id": "d01496ce",
   "metadata": {},
   "outputs": [],
   "source": [
    "# power_fcasts_ens_all.to_pickle('forecasts/power_fcasts_ens_all.pkl')\n",
    "# power_fcasts_ens_all.to_pickle('forecasts/power_fcasts_ens_all.pkl')"
   ]
  }
 ],
 "metadata": {
  "kernelspec": {
   "display_name": "pvsc_forecaster_2025",
   "language": "python",
   "name": "python3"
  },
  "language_info": {
   "codemirror_mode": {
    "name": "ipython",
    "version": 3
   },
   "file_extension": ".py",
   "mimetype": "text/x-python",
   "name": "python",
   "nbconvert_exporter": "python",
   "pygments_lexer": "ipython3",
   "version": "3.12.8"
  }
 },
 "nbformat": 4,
 "nbformat_minor": 5
}
