{
 "cells": [
  {
   "cell_type": "markdown",
   "id": "97fdc12e",
   "metadata": {},
   "source": [
    "This is a quick example of how these forecasts could be implemented:"
   ]
  },
  {
   "cell_type": "code",
   "execution_count": 1,
   "id": "87acd022",
   "metadata": {},
   "outputs": [],
   "source": [
    "import pandas as pd\n",
    "import os\n",
    "from pv_model import model_pv_power\n",
    "from forecast_solar import get_solar_forecast_fast, get_solar_forecast_ensemble\n",
    "import matplotlib.pyplot as plt"
   ]
  },
  {
   "cell_type": "markdown",
   "id": "3561c0c3",
   "metadata": {},
   "source": [
    "Import specs:"
   ]
  },
  {
   "cell_type": "code",
   "execution_count": 2,
   "id": "730fe61b",
   "metadata": {},
   "outputs": [
    {
     "data": {
      "text/html": [
       "<div>\n",
       "<style scoped>\n",
       "    .dataframe tbody tr th:only-of-type {\n",
       "        vertical-align: middle;\n",
       "    }\n",
       "\n",
       "    .dataframe tbody tr th {\n",
       "        vertical-align: top;\n",
       "    }\n",
       "\n",
       "    .dataframe thead th {\n",
       "        text-align: right;\n",
       "    }\n",
       "</style>\n",
       "<table border=\"1\" class=\"dataframe\">\n",
       "  <thead>\n",
       "    <tr style=\"text-align: right;\">\n",
       "      <th></th>\n",
       "      <th>0</th>\n",
       "      <th>1</th>\n",
       "      <th>2</th>\n",
       "      <th>3</th>\n",
       "      <th>4</th>\n",
       "      <th>5</th>\n",
       "      <th>6</th>\n",
       "      <th>7</th>\n",
       "      <th>8</th>\n",
       "      <th>9</th>\n",
       "      <th>10</th>\n",
       "      <th>11</th>\n",
       "      <th>12</th>\n",
       "      <th>13</th>\n",
       "      <th>14</th>\n",
       "      <th>15</th>\n",
       "      <th>16</th>\n",
       "      <th>17</th>\n",
       "      <th>18</th>\n",
       "      <th>19</th>\n",
       "    </tr>\n",
       "  </thead>\n",
       "  <tbody>\n",
       "    <tr>\n",
       "      <th>latitude</th>\n",
       "      <td>32.811041</td>\n",
       "      <td>31.719983</td>\n",
       "      <td>33.021601</td>\n",
       "      <td>31.888</td>\n",
       "      <td>31.255</td>\n",
       "      <td>33.404486</td>\n",
       "      <td>30.4214</td>\n",
       "      <td>28.883196</td>\n",
       "      <td>31.435932</td>\n",
       "      <td>31.030996</td>\n",
       "      <td>32.104125</td>\n",
       "      <td>33.467803</td>\n",
       "      <td>32.4744</td>\n",
       "      <td>32.460054</td>\n",
       "      <td>32.533273</td>\n",
       "      <td>34.380532</td>\n",
       "      <td>26.090103</td>\n",
       "      <td>33.261505</td>\n",
       "      <td>29.271667</td>\n",
       "      <td>29.242304</td>\n",
       "    </tr>\n",
       "    <tr>\n",
       "      <th>longitude</th>\n",
       "      <td>-99.91749</td>\n",
       "      <td>-104.442292</td>\n",
       "      <td>-99.61463</td>\n",
       "      <td>-100.825</td>\n",
       "      <td>-102.272</td>\n",
       "      <td>-96.082472</td>\n",
       "      <td>-97.4614</td>\n",
       "      <td>-99.178605</td>\n",
       "      <td>-99.796613</td>\n",
       "      <td>-102.488209</td>\n",
       "      <td>-100.162375</td>\n",
       "      <td>-95.370856</td>\n",
       "      <td>-95.7156</td>\n",
       "      <td>-102.672809</td>\n",
       "      <td>-96.428985</td>\n",
       "      <td>-100.099625</td>\n",
       "      <td>-97.798453</td>\n",
       "      <td>-97.238057</td>\n",
       "      <td>-98.444722</td>\n",
       "      <td>-95.658144</td>\n",
       "    </tr>\n",
       "    <tr>\n",
       "      <th>nameplate_dc</th>\n",
       "      <td>131.5944</td>\n",
       "      <td>256.362179</td>\n",
       "      <td>94.507156</td>\n",
       "      <td>130.434783</td>\n",
       "      <td>234.0</td>\n",
       "      <td>170.854369</td>\n",
       "      <td>186.0</td>\n",
       "      <td>176.0</td>\n",
       "      <td>319.0</td>\n",
       "      <td>172.362353</td>\n",
       "      <td>143.08</td>\n",
       "      <td>260.0</td>\n",
       "      <td>82.098305</td>\n",
       "      <td>133.931</td>\n",
       "      <td>182.009816</td>\n",
       "      <td>165.306333</td>\n",
       "      <td>184.861111</td>\n",
       "      <td>191.275636</td>\n",
       "      <td>53.936118</td>\n",
       "      <td>162.4</td>\n",
       "    </tr>\n",
       "    <tr>\n",
       "      <th>nameplate_ac</th>\n",
       "      <td>100.8</td>\n",
       "      <td>188.2</td>\n",
       "      <td>74.9</td>\n",
       "      <td>100.0</td>\n",
       "      <td>180.0</td>\n",
       "      <td>125.7</td>\n",
       "      <td>144.0</td>\n",
       "      <td>132.4</td>\n",
       "      <td>250.0</td>\n",
       "      <td>126.3</td>\n",
       "      <td>102.2</td>\n",
       "      <td>198.5</td>\n",
       "      <td>59.8</td>\n",
       "      <td>100.7</td>\n",
       "      <td>147.6</td>\n",
       "      <td>121.4</td>\n",
       "      <td>137.5</td>\n",
       "      <td>148.8</td>\n",
       "      <td>39.2</td>\n",
       "      <td>120.0</td>\n",
       "    </tr>\n",
       "    <tr>\n",
       "      <th>mount_type</th>\n",
       "      <td>single-axis</td>\n",
       "      <td>single-axis</td>\n",
       "      <td>single-axis</td>\n",
       "      <td>single-axis</td>\n",
       "      <td>single-axis</td>\n",
       "      <td>single-axis</td>\n",
       "      <td>single-axis</td>\n",
       "      <td>single-axis</td>\n",
       "      <td>single-axis</td>\n",
       "      <td>single-axis</td>\n",
       "      <td>single-axis</td>\n",
       "      <td>single-axis</td>\n",
       "      <td>single-axis</td>\n",
       "      <td>single-axis</td>\n",
       "      <td>single-axis</td>\n",
       "      <td>single-axis</td>\n",
       "      <td>single-axis</td>\n",
       "      <td>single-axis</td>\n",
       "      <td>single-axis</td>\n",
       "      <td>single-axis</td>\n",
       "    </tr>\n",
       "  </tbody>\n",
       "</table>\n",
       "</div>"
      ],
      "text/plain": [
       "                       0            1            2            3            4   \\\n",
       "latitude        32.811041    31.719983    33.021601       31.888       31.255   \n",
       "longitude       -99.91749  -104.442292    -99.61463     -100.825     -102.272   \n",
       "nameplate_dc     131.5944   256.362179    94.507156   130.434783        234.0   \n",
       "nameplate_ac        100.8        188.2         74.9        100.0        180.0   \n",
       "mount_type    single-axis  single-axis  single-axis  single-axis  single-axis   \n",
       "\n",
       "                       5            6            7            8            9   \\\n",
       "latitude        33.404486      30.4214    28.883196    31.435932    31.030996   \n",
       "longitude      -96.082472     -97.4614   -99.178605   -99.796613  -102.488209   \n",
       "nameplate_dc   170.854369        186.0        176.0        319.0   172.362353   \n",
       "nameplate_ac        125.7        144.0        132.4        250.0        126.3   \n",
       "mount_type    single-axis  single-axis  single-axis  single-axis  single-axis   \n",
       "\n",
       "                       10           11           12           13           14  \\\n",
       "latitude        32.104125    33.467803      32.4744    32.460054    32.533273   \n",
       "longitude     -100.162375   -95.370856     -95.7156  -102.672809   -96.428985   \n",
       "nameplate_dc       143.08        260.0    82.098305      133.931   182.009816   \n",
       "nameplate_ac        102.2        198.5         59.8        100.7        147.6   \n",
       "mount_type    single-axis  single-axis  single-axis  single-axis  single-axis   \n",
       "\n",
       "                       15           16           17           18           19  \n",
       "latitude        34.380532    26.090103    33.261505    29.271667    29.242304  \n",
       "longitude     -100.099625   -97.798453   -97.238057   -98.444722   -95.658144  \n",
       "nameplate_dc   165.306333   184.861111   191.275636    53.936118        162.4  \n",
       "nameplate_ac        121.4        137.5        148.8         39.2        120.0  \n",
       "mount_type    single-axis  single-axis  single-axis  single-axis  single-axis  "
      ]
     },
     "execution_count": 2,
     "metadata": {},
     "output_type": "execute_result"
    }
   ],
   "source": [
    "folder = 'output_specs' \n",
    "filename = 'agg_specs_orig_df.pkl'\n",
    "file_to_read = os.path.join(folder, filename)\n",
    "agg_specs_orig_df = pd.read_pickle(file_to_read)\n",
    "agg_specs_orig_df.head()"
   ]
  },
  {
   "cell_type": "markdown",
   "id": "01b6f1cd",
   "metadata": {},
   "source": [
    "Let's focus on one plant:"
   ]
  },
  {
   "cell_type": "code",
   "execution_count": 3,
   "id": "1e680628",
   "metadata": {},
   "outputs": [
    {
     "data": {
      "text/plain": [
       "{'latitude': 31.888,\n",
       " 'longitude': -100.825,\n",
       " 'nameplate_dc': 130.43478260869566,\n",
       " 'nameplate_ac': 100.0,\n",
       " 'mount_type': 'single-axis',\n",
       " 'cell_type': 'thin-film_cdte',\n",
       " 'shade_loss_model': 'linear',\n",
       " 'bifacial': False,\n",
       " 'bifaciality_factor': None,\n",
       " 'backtrack': False,\n",
       " 'gcr': 0.4,\n",
       " 'row_side_num_mods': 1,\n",
       " 'fixed_azimuth': None,\n",
       " 'fixed_tilt': None,\n",
       " 'axis_azimuth': 180.0,\n",
       " 'axis_tilt': 0,\n",
       " 'gamma_pdc': -0.0025,\n",
       " 'dc_loss_fraction': 0.16900136892539352,\n",
       " 'n_cells_up': 1,\n",
       " 'cod': datetime.datetime(2020, 12, 1, 0, 0)}"
      ]
     },
     "execution_count": 3,
     "metadata": {},
     "output_type": "execute_result"
    }
   ],
   "source": [
    "plant_number = 3\n",
    "plant_data = agg_specs_orig_df[plant_number].to_dict()\n",
    "plant_data"
   ]
  },
  {
   "cell_type": "markdown",
   "id": "18690a9c",
   "metadata": {},
   "source": [
    "Calculate a target initialization time based on the current time and some offsets:"
   ]
  },
  {
   "cell_type": "code",
   "execution_count": 4,
   "id": "02c24e7a",
   "metadata": {},
   "outputs": [
    {
     "name": "stdout",
     "output_type": "stream",
     "text": [
      "2025-06-07 00:00:00\n"
     ]
    }
   ],
   "source": [
    "delay_to_first_forecast = '300min' # assume GFS takes 5 hr from initilization time to be published\n",
    "\n",
    "time_now = pd.Timestamp.utcnow().tz_localize(None) # current time in UTC, but remove timezone awareness\n",
    "time_now_offset = time_now - pd.Timedelta(delay_to_first_forecast)\n",
    "if time_now_offset.hour >= 12:\n",
    "    init_date = time_now_offset.floor('12h')\n",
    "else:\n",
    "    init_date = time_now_offset.floor('12h') - pd.Timedelta('1d')\n",
    "init_date = init_date.round('1h') # round it to get rid of fractions of a second?\n",
    "print(init_date)"
   ]
  },
  {
   "cell_type": "markdown",
   "id": "ff5069d4",
   "metadata": {},
   "source": [
    "Target first valid time:"
   ]
  },
  {
   "cell_type": "code",
   "execution_count": 5,
   "id": "884578e6",
   "metadata": {},
   "outputs": [
    {
     "name": "stdout",
     "output_type": "stream",
     "text": [
      "2025-06-09 06:00:00\n"
     ]
    }
   ],
   "source": [
    "first_valid_time = time_now.ceil('1d') + pd.Timedelta('6h')\n",
    "print(first_valid_time)"
   ]
  },
  {
   "cell_type": "markdown",
   "id": "7c5784a5",
   "metadata": {},
   "source": [
    "And the target `lead_time_to_start` based on those times:"
   ]
  },
  {
   "cell_type": "code",
   "execution_count": 6,
   "id": "7f3ab175",
   "metadata": {},
   "outputs": [
    {
     "name": "stdout",
     "output_type": "stream",
     "text": [
      "54\n"
     ]
    }
   ],
   "source": [
    "lead_time_to_start = int(round((first_valid_time - init_date).total_seconds() / 3600))\n",
    "print(lead_time_to_start)"
   ]
  },
  {
   "cell_type": "code",
   "execution_count": 7,
   "id": "08f5c9bd",
   "metadata": {},
   "outputs": [
    {
     "name": "stdout",
     "output_type": "stream",
     "text": [
      "👨🏻‍🏭 Created directory: [C:\\Users\\willh\\data\\gfs\\20250607]\n"
     ]
    },
    {
     "name": "stderr",
     "output_type": "stream",
     "text": [
      "c:\\Users\\willh\\miniforge3\\envs\\pvsc_forecaster_2025\\Lib\\site-packages\\herbie\\accessors.py:303: UserWarning: `with_wind()` did not do anything.\n",
      "  warnings.warn(\"`with_wind()` did not do anything.\")\n",
      "c:\\Users\\willh\\miniforge3\\envs\\pvsc_forecaster_2025\\Lib\\site-packages\\herbie\\accessors.py:303: UserWarning: `with_wind()` did not do anything.\n",
      "  warnings.warn(\"`with_wind()` did not do anything.\")\n"
     ]
    },
    {
     "data": {
      "text/html": [
       "<div>\n",
       "<style scoped>\n",
       "    .dataframe tbody tr th:only-of-type {\n",
       "        vertical-align: middle;\n",
       "    }\n",
       "\n",
       "    .dataframe tbody tr th {\n",
       "        vertical-align: top;\n",
       "    }\n",
       "\n",
       "    .dataframe thead th {\n",
       "        text-align: right;\n",
       "    }\n",
       "</style>\n",
       "<table border=\"1\" class=\"dataframe\">\n",
       "  <thead>\n",
       "    <tr style=\"text-align: right;\">\n",
       "      <th></th>\n",
       "      <th>point</th>\n",
       "      <th>temp_air</th>\n",
       "      <th>wind_speed</th>\n",
       "      <th>ghi_csi</th>\n",
       "      <th>ghi</th>\n",
       "      <th>dni</th>\n",
       "      <th>dhi</th>\n",
       "      <th>ghi_clear</th>\n",
       "      <th>albedo</th>\n",
       "    </tr>\n",
       "    <tr>\n",
       "      <th>valid_time</th>\n",
       "      <th></th>\n",
       "      <th></th>\n",
       "      <th></th>\n",
       "      <th></th>\n",
       "      <th></th>\n",
       "      <th></th>\n",
       "      <th></th>\n",
       "      <th></th>\n",
       "      <th></th>\n",
       "    </tr>\n",
       "  </thead>\n",
       "  <tbody>\n",
       "    <tr>\n",
       "      <th>2025-06-09 06:30:00+00:00</th>\n",
       "      <td>0</td>\n",
       "      <td>27.471367</td>\n",
       "      <td>4.582178</td>\n",
       "      <td>0.0</td>\n",
       "      <td>0.0</td>\n",
       "      <td>0.0</td>\n",
       "      <td>0.0</td>\n",
       "      <td>NaN</td>\n",
       "      <td>0.2</td>\n",
       "    </tr>\n",
       "    <tr>\n",
       "      <th>2025-06-09 07:30:00+00:00</th>\n",
       "      <td>0</td>\n",
       "      <td>25.043728</td>\n",
       "      <td>5.638746</td>\n",
       "      <td>0.0</td>\n",
       "      <td>0.0</td>\n",
       "      <td>0.0</td>\n",
       "      <td>0.0</td>\n",
       "      <td>NaN</td>\n",
       "      <td>0.2</td>\n",
       "    </tr>\n",
       "    <tr>\n",
       "      <th>2025-06-09 08:30:00+00:00</th>\n",
       "      <td>0</td>\n",
       "      <td>21.434477</td>\n",
       "      <td>8.483656</td>\n",
       "      <td>0.0</td>\n",
       "      <td>0.0</td>\n",
       "      <td>0.0</td>\n",
       "      <td>0.0</td>\n",
       "      <td>NaN</td>\n",
       "      <td>0.2</td>\n",
       "    </tr>\n",
       "    <tr>\n",
       "      <th>2025-06-09 09:30:00+00:00</th>\n",
       "      <td>0</td>\n",
       "      <td>20.155558</td>\n",
       "      <td>6.746766</td>\n",
       "      <td>0.0</td>\n",
       "      <td>0.0</td>\n",
       "      <td>0.0</td>\n",
       "      <td>0.0</td>\n",
       "      <td>NaN</td>\n",
       "      <td>0.2</td>\n",
       "    </tr>\n",
       "    <tr>\n",
       "      <th>2025-06-09 10:30:00+00:00</th>\n",
       "      <td>0</td>\n",
       "      <td>20.515526</td>\n",
       "      <td>5.310022</td>\n",
       "      <td>0.0</td>\n",
       "      <td>0.0</td>\n",
       "      <td>0.0</td>\n",
       "      <td>0.0</td>\n",
       "      <td>NaN</td>\n",
       "      <td>0.2</td>\n",
       "    </tr>\n",
       "  </tbody>\n",
       "</table>\n",
       "</div>"
      ],
      "text/plain": [
       "                           point   temp_air  wind_speed  ghi_csi  ghi  dni  \\\n",
       "valid_time                                                                   \n",
       "2025-06-09 06:30:00+00:00      0  27.471367    4.582178      0.0  0.0  0.0   \n",
       "2025-06-09 07:30:00+00:00      0  25.043728    5.638746      0.0  0.0  0.0   \n",
       "2025-06-09 08:30:00+00:00      0  21.434477    8.483656      0.0  0.0  0.0   \n",
       "2025-06-09 09:30:00+00:00      0  20.155558    6.746766      0.0  0.0  0.0   \n",
       "2025-06-09 10:30:00+00:00      0  20.515526    5.310022      0.0  0.0  0.0   \n",
       "\n",
       "                           dhi  ghi_clear  albedo  \n",
       "valid_time                                         \n",
       "2025-06-09 06:30:00+00:00  0.0        NaN     0.2  \n",
       "2025-06-09 07:30:00+00:00  0.0        NaN     0.2  \n",
       "2025-06-09 08:30:00+00:00  0.0        NaN     0.2  \n",
       "2025-06-09 09:30:00+00:00  0.0        NaN     0.2  \n",
       "2025-06-09 10:30:00+00:00  0.0        NaN     0.2  "
      ]
     },
     "execution_count": 7,
     "metadata": {},
     "output_type": "execute_result"
    }
   ],
   "source": [
    "resource_data_gfs = get_solar_forecast_fast(\n",
    "        latitude=plant_data['latitude'],\n",
    "        longitude=plant_data['longitude'],\n",
    "        init_date=init_date,\n",
    "        run_length=72, # just three days to let this example run faster\n",
    "        lead_time_to_start=lead_time_to_start,\n",
    "        model='gfs',\n",
    "        attempts=4,\n",
    "    )\n",
    "\n",
    "resource_data_gfs['albedo'] = 0.2 # fill in albedo data\n",
    "resource_data_gfs.head()"
   ]
  },
  {
   "cell_type": "markdown",
   "id": "d90d2ae2",
   "metadata": {},
   "source": [
    "Convert to power:"
   ]
  },
  {
   "cell_type": "code",
   "execution_count": 8,
   "id": "f4269074",
   "metadata": {},
   "outputs": [
    {
     "data": {
      "image/png": "[encoded data removed]",
      "text/plain": [
       "<Figure size 640x480 with 1 Axes>"
      ]
     },
     "metadata": {},
     "output_type": "display_data"
    }
   ],
   "source": [
    "power_fcasts_gfs, _ = model_pv_power(resource_data_gfs, **plant_data)\n",
    "power_fcasts_gfs.plot(drawstyle='steps-mid')\n",
    "plt.show()"
   ]
  },
  {
   "cell_type": "markdown",
   "id": "ff202323",
   "metadata": {},
   "source": [
    "Convert to local time and calculate daily totals:"
   ]
  },
  {
   "cell_type": "code",
   "execution_count": 9,
   "id": "5a7a6c73",
   "metadata": {},
   "outputs": [
    {
     "data": {
      "image/png": "[encoded data removed]",
      "text/plain": [
       "<Figure size 640x480 with 1 Axes>"
      ]
     },
     "metadata": {},
     "output_type": "display_data"
    }
   ],
   "source": [
    "power_fcasts_gfs = power_fcasts_gfs.tz_convert('US/Central')\n",
    "power_fcasts_gfs_daily = power_fcasts_gfs.resample('1d').sum()\n",
    "\n",
    "power_fcasts_gfs_daily.plot(kind='bar')\n",
    "plt.show()"
   ]
  },
  {
   "cell_type": "markdown",
   "id": "fe2d1814",
   "metadata": {},
   "source": [
    "And pick which day has the lowest energy, or at least let the forecast inform scheduling."
   ]
  },
  {
   "cell_type": "code",
   "execution_count": 10,
   "id": "18dee720",
   "metadata": {},
   "outputs": [
    {
     "data": {
      "text/plain": [
       "valid_time\n",
       "2025-06-09 00:00:00-05:00    938.750954\n",
       "2025-06-10 00:00:00-05:00    738.991839\n",
       "2025-06-11 00:00:00-05:00    451.810500\n",
       "2025-06-12 00:00:00-05:00      0.000000\n",
       "Freq: D, dtype: float64"
      ]
     },
     "execution_count": 10,
     "metadata": {},
     "output_type": "execute_result"
    }
   ],
   "source": [
    "power_fcasts_gfs_daily"
   ]
  },
  {
   "cell_type": "markdown",
   "id": "a45ab28e",
   "metadata": {},
   "source": [
    "Follow the process outlined in [04_Make_Ensemble_Forecasts.ipynb](04_Make_Ensemble_Forecasts.ipynb) to make an ensemble forecast, and some of the steps in [05_Ensemble_Analysis.ipynb](05_Ensemble_Analysis.ipynb) to analyze it (but leaving out the `week` portion of the analysis). "
   ]
  },
  {
   "cell_type": "markdown",
   "id": "e32eb1b1",
   "metadata": {},
   "source": [
    "Assume IFS takes about 8 hours 40 minutes to be published out to 144h based on spot-checking https://data.ecmwf.int/forecasts/20250603/12z/ifs/0p25/enfo/ (change the date in that URL to sometime in the last 4 days...). Based on [1] and [2], it seems like it should take just under 8 hours, but that doesn't seem to work for me.\n",
    "\n",
    "Below code uses most recent ensemble (00z, 06z, 12z, or 18z), but note that only the 00z and 12z runs go out beyond 144 hours.\n",
    "\n",
    "[1] https://confluence.ecmwf.int/display/DAC/Dissemination+schedule\n",
    "[2] https://www.ecmwf.int/en/forecasts/datasets/open-data"
   ]
  },
  {
   "cell_type": "code",
   "execution_count": 11,
   "id": "28d898af",
   "metadata": {},
   "outputs": [
    {
     "name": "stdout",
     "output_type": "stream",
     "text": [
      "2025-06-08 06:00:00\n",
      "2025-06-09 06:00:00\n",
      "24\n"
     ]
    }
   ],
   "source": [
    "delay_to_first_forecast = '520min' # assume IFS takes about 8 hr 40 min from initilization time\n",
    "\n",
    "time_now = pd.Timestamp.utcnow().tz_localize(None) # current time in UTC, but remove timezone awareness\n",
    "time_now_offset = time_now - pd.Timedelta(delay_to_first_forecast)\n",
    "\n",
    "init_date = time_now_offset.floor('6h') # IFS ensemble available every 6 hours\n",
    "print(init_date)\n",
    "\n",
    "first_valid_time = time_now.ceil('1d') + pd.Timedelta('6h') # 6:00 UTC tomorrow\n",
    "print(first_valid_time)\n",
    "\n",
    "lead_time_to_start = int(round((first_valid_time - init_date).total_seconds() / 3600))\n",
    "print(lead_time_to_start)"
   ]
  },
  {
   "cell_type": "code",
   "execution_count": 12,
   "id": "3cf3d152",
   "metadata": {},
   "outputs": [
    {
     "name": "stderr",
     "output_type": "stream",
     "text": [
      "Exception has occured : ('Connection aborted.', ConnectionResetError(10054, 'An existing connection was forcibly closed by the remote host', None, 10054, None))\n",
      "Exception has occured : ('Connection aborted.', ConnectionResetError(10054, 'An existing connection was forcibly closed by the remote host', None, 10054, None))\n",
      "Exception has occured : ('Connection aborted.', ConnectionResetError(10054, 'An existing connection was forcibly closed by the remote host', None, 10054, None))\n"
     ]
    },
    {
     "name": "stdout",
     "output_type": "stream",
     "text": [
      "👨🏻‍🏭 Created directory: [C:\\Users\\willh\\data\\ifs\\20250608]\n"
     ]
    }
   ],
   "source": [
    "resource_data_ens = get_solar_forecast_ensemble(\n",
    "        latitude=plant_data['latitude'],\n",
    "        longitude=plant_data['longitude'],\n",
    "        init_date=init_date,\n",
    "        run_length=69, # just three days to let this example run faster, drop 3 hours to not wrap to the next day\n",
    "        lead_time_to_start=lead_time_to_start,\n",
    "        model='ifs',\n",
    "        attempts=4,\n",
    ")\n",
    "\n",
    "resource_data_ens['albedo'] = 0.2 # fill in albedo data"
   ]
  },
  {
   "cell_type": "markdown",
   "id": "e11c83d9",
   "metadata": {},
   "source": [
    "Model power:"
   ]
  },
  {
   "cell_type": "code",
   "execution_count": 13,
   "id": "07ca577a",
   "metadata": {},
   "outputs": [],
   "source": [
    "member_list = resource_data_ens['member'].unique()\n",
    "point_list = resource_data_ens['point'].unique()\n",
    "\n",
    "# empty lists\n",
    "ens_temp_list = []\n",
    "\n",
    "for member in member_list:\n",
    "    for point in point_list:\n",
    "        # pull plant data\n",
    "        plant_data = agg_specs_orig_df[point].to_dict()\n",
    "\n",
    "        # get the resource forecast for the plant\n",
    "        resource_fcast_ens = resource_data_ens[(resource_data_ens['point']==point) \\\n",
    "            & (resource_data_ens['member']==member)]\n",
    "        \n",
    "        resource_fcast_ens = resource_fcast_ens.reset_index().set_index('valid_time')\n",
    "\n",
    "        # model power\n",
    "        power_fcasts_ens, _ = model_pv_power(resource_fcast_ens, **plant_data)\n",
    "\n",
    "        power_fcasts_ens.name = 'power'\n",
    "\n",
    "        # convert to dataframe and add 'point' (plant number)\n",
    "        power_fcasts_ens = power_fcasts_ens.to_frame()\n",
    "        power_fcasts_ens['point'] = point\n",
    "        power_fcasts_ens['member'] = member\n",
    "\n",
    "        ens_temp_list.append(power_fcasts_ens)\n",
    "\n",
    "power_fcasts_ens_all = pd.concat(ens_temp_list)\n",
    "\n",
    "# convert to central time\n",
    "power_fcasts_ens_all = power_fcasts_ens_all.tz_convert('Etc/GMT+5')"
   ]
  },
  {
   "cell_type": "markdown",
   "id": "0d48cc73",
   "metadata": {},
   "source": [
    "Calculate daily energy:"
   ]
  },
  {
   "cell_type": "code",
   "execution_count": 14,
   "id": "ac4e0139",
   "metadata": {},
   "outputs": [
    {
     "data": {
      "text/html": [
       "<div>\n",
       "<style scoped>\n",
       "    .dataframe tbody tr th:only-of-type {\n",
       "        vertical-align: middle;\n",
       "    }\n",
       "\n",
       "    .dataframe tbody tr th {\n",
       "        vertical-align: top;\n",
       "    }\n",
       "\n",
       "    .dataframe thead th {\n",
       "        text-align: right;\n",
       "    }\n",
       "</style>\n",
       "<table border=\"1\" class=\"dataframe\">\n",
       "  <thead>\n",
       "    <tr style=\"text-align: right;\">\n",
       "      <th></th>\n",
       "      <th></th>\n",
       "      <th></th>\n",
       "      <th>daily_energy</th>\n",
       "    </tr>\n",
       "    <tr>\n",
       "      <th>point</th>\n",
       "      <th>member</th>\n",
       "      <th>valid_time</th>\n",
       "      <th></th>\n",
       "    </tr>\n",
       "  </thead>\n",
       "  <tbody>\n",
       "    <tr>\n",
       "      <th rowspan=\"11\" valign=\"top\">0</th>\n",
       "      <th rowspan=\"3\" valign=\"top\">1</th>\n",
       "      <th>2025-06-09 00:00:00-05:00</th>\n",
       "      <td>713.067897</td>\n",
       "    </tr>\n",
       "    <tr>\n",
       "      <th>2025-06-10 00:00:00-05:00</th>\n",
       "      <td>388.984334</td>\n",
       "    </tr>\n",
       "    <tr>\n",
       "      <th>2025-06-11 00:00:00-05:00</th>\n",
       "      <td>477.594131</td>\n",
       "    </tr>\n",
       "    <tr>\n",
       "      <th rowspan=\"2\" valign=\"top\">2</th>\n",
       "      <th>2025-06-09 00:00:00-05:00</th>\n",
       "      <td>650.762905</td>\n",
       "    </tr>\n",
       "    <tr>\n",
       "      <th>2025-06-10 00:00:00-05:00</th>\n",
       "      <td>609.084690</td>\n",
       "    </tr>\n",
       "    <tr>\n",
       "      <th>...</th>\n",
       "      <th>...</th>\n",
       "      <td>...</td>\n",
       "    </tr>\n",
       "    <tr>\n",
       "      <th rowspan=\"2\" valign=\"top\">49</th>\n",
       "      <th>2025-06-10 00:00:00-05:00</th>\n",
       "      <td>533.117877</td>\n",
       "    </tr>\n",
       "    <tr>\n",
       "      <th>2025-06-11 00:00:00-05:00</th>\n",
       "      <td>379.329189</td>\n",
       "    </tr>\n",
       "    <tr>\n",
       "      <th rowspan=\"3\" valign=\"top\">50</th>\n",
       "      <th>2025-06-09 00:00:00-05:00</th>\n",
       "      <td>764.511658</td>\n",
       "    </tr>\n",
       "    <tr>\n",
       "      <th>2025-06-10 00:00:00-05:00</th>\n",
       "      <td>686.060941</td>\n",
       "    </tr>\n",
       "    <tr>\n",
       "      <th>2025-06-11 00:00:00-05:00</th>\n",
       "      <td>551.871854</td>\n",
       "    </tr>\n",
       "  </tbody>\n",
       "</table>\n",
       "<p>150 rows × 1 columns</p>\n",
       "</div>"
      ],
      "text/plain": [
       "                                        daily_energy\n",
       "point member valid_time                             \n",
       "0     1      2025-06-09 00:00:00-05:00    713.067897\n",
       "             2025-06-10 00:00:00-05:00    388.984334\n",
       "             2025-06-11 00:00:00-05:00    477.594131\n",
       "      2      2025-06-09 00:00:00-05:00    650.762905\n",
       "             2025-06-10 00:00:00-05:00    609.084690\n",
       "...                                              ...\n",
       "      49     2025-06-10 00:00:00-05:00    533.117877\n",
       "             2025-06-11 00:00:00-05:00    379.329189\n",
       "      50     2025-06-09 00:00:00-05:00    764.511658\n",
       "             2025-06-10 00:00:00-05:00    686.060941\n",
       "             2025-06-11 00:00:00-05:00    551.871854\n",
       "\n",
       "[150 rows x 1 columns]"
      ]
     },
     "execution_count": 14,
     "metadata": {},
     "output_type": "execute_result"
    }
   ],
   "source": [
    "df = power_fcasts_ens_all.copy()\n",
    "\n",
    "df = df.reset_index().set_index(['point', 'member', 'valid_time'])\n",
    "\n",
    "df = df.groupby([pd.Grouper(level='point'),\n",
    "                 pd.Grouper(level='member'), \n",
    "                 pd.Grouper(level='valid_time', freq='1D')]\n",
    "               ).sum()\n",
    "df = df.rename(columns={'power': 'daily_energy'})\n",
    "df"
   ]
  },
  {
   "cell_type": "markdown",
   "id": "0181b762",
   "metadata": {},
   "source": [
    "Lowest day counts:"
   ]
  },
  {
   "cell_type": "code",
   "execution_count": 15,
   "id": "04829017",
   "metadata": {},
   "outputs": [
    {
     "data": {
      "text/html": [
       "<div>\n",
       "<style scoped>\n",
       "    .dataframe tbody tr th:only-of-type {\n",
       "        vertical-align: middle;\n",
       "    }\n",
       "\n",
       "    .dataframe tbody tr th {\n",
       "        vertical-align: top;\n",
       "    }\n",
       "\n",
       "    .dataframe thead th {\n",
       "        text-align: right;\n",
       "    }\n",
       "</style>\n",
       "<table border=\"1\" class=\"dataframe\">\n",
       "  <thead>\n",
       "    <tr style=\"text-align: right;\">\n",
       "      <th></th>\n",
       "      <th></th>\n",
       "      <th>lowest_day_count</th>\n",
       "    </tr>\n",
       "    <tr>\n",
       "      <th>point</th>\n",
       "      <th>valid_time</th>\n",
       "      <th></th>\n",
       "    </tr>\n",
       "  </thead>\n",
       "  <tbody>\n",
       "    <tr>\n",
       "      <th rowspan=\"3\" valign=\"top\">0</th>\n",
       "      <th>2025-06-11 00:00:00-05:00</th>\n",
       "      <td>40</td>\n",
       "    </tr>\n",
       "    <tr>\n",
       "      <th>2025-06-10 00:00:00-05:00</th>\n",
       "      <td>9</td>\n",
       "    </tr>\n",
       "    <tr>\n",
       "      <th>2025-06-09 00:00:00-05:00</th>\n",
       "      <td>1</td>\n",
       "    </tr>\n",
       "  </tbody>\n",
       "</table>\n",
       "</div>"
      ],
      "text/plain": [
       "                                 lowest_day_count\n",
       "point valid_time                                 \n",
       "0     2025-06-11 00:00:00-05:00                40\n",
       "      2025-06-10 00:00:00-05:00                 9\n",
       "      2025-06-09 00:00:00-05:00                 1"
      ]
     },
     "execution_count": 15,
     "metadata": {},
     "output_type": "execute_result"
    }
   ],
   "source": [
    "# unstack, group by point and week, find min index, re-stack, reset index\n",
    "df_fcast = (df\n",
    "\t\t.unstack(level='member')\n",
    "\t\t.groupby(level=['point'])\n",
    "\t\t.idxmin()\n",
    "\t\t.stack(future_stack=True)\n",
    "\t\t.reset_index())\n",
    "\n",
    "\n",
    "# The `daily_energy` column is a list of tuples, containing point, member,\n",
    "# and day (with minimum energy). We can simply extract that column and turn\n",
    "# it into a dataframe\n",
    "df_fcast = pd.DataFrame(list(df_fcast['daily_energy']),\n",
    "\t\tcolumns=['point', 'valid_time'])\n",
    "\n",
    "# then get value_counts()\n",
    "# from https://note.nkmk.me/en/python-pandas-value-counts/\n",
    "df_fcast = df_fcast.groupby(['point']).value_counts(dropna=False).to_frame()\n",
    "\n",
    "df_fcast = df_fcast.rename(columns={'count': 'lowest_day_count'})\n",
    "\n",
    "df_fcast"
   ]
  },
  {
   "cell_type": "code",
   "execution_count": 16,
   "id": "1698dc37",
   "metadata": {},
   "outputs": [
    {
     "data": {
      "text/html": [
       "<div>\n",
       "<style scoped>\n",
       "    .dataframe tbody tr th:only-of-type {\n",
       "        vertical-align: middle;\n",
       "    }\n",
       "\n",
       "    .dataframe tbody tr th {\n",
       "        vertical-align: top;\n",
       "    }\n",
       "\n",
       "    .dataframe thead th {\n",
       "        text-align: right;\n",
       "    }\n",
       "</style>\n",
       "<table border=\"1\" class=\"dataframe\">\n",
       "  <thead>\n",
       "    <tr style=\"text-align: right;\">\n",
       "      <th></th>\n",
       "      <th>point</th>\n",
       "      <th>lowest_day_count</th>\n",
       "    </tr>\n",
       "    <tr>\n",
       "      <th>valid_time</th>\n",
       "      <th></th>\n",
       "      <th></th>\n",
       "    </tr>\n",
       "  </thead>\n",
       "  <tbody>\n",
       "    <tr>\n",
       "      <th>2025-06-09 00:00:00-05:00</th>\n",
       "      <td>0</td>\n",
       "      <td>1</td>\n",
       "    </tr>\n",
       "    <tr>\n",
       "      <th>2025-06-10 00:00:00-05:00</th>\n",
       "      <td>0</td>\n",
       "      <td>9</td>\n",
       "    </tr>\n",
       "    <tr>\n",
       "      <th>2025-06-11 00:00:00-05:00</th>\n",
       "      <td>0</td>\n",
       "      <td>40</td>\n",
       "    </tr>\n",
       "  </tbody>\n",
       "</table>\n",
       "</div>"
      ],
      "text/plain": [
       "                           point  lowest_day_count\n",
       "valid_time                                        \n",
       "2025-06-09 00:00:00-05:00      0                 1\n",
       "2025-06-10 00:00:00-05:00      0                 9\n",
       "2025-06-11 00:00:00-05:00      0                40"
      ]
     },
     "execution_count": 16,
     "metadata": {},
     "output_type": "execute_result"
    }
   ],
   "source": [
    "# fill in days with no counts, if needed\n",
    "df_fcast = df_fcast.reset_index().set_index('valid_time')\n",
    "days = df.reset_index()['valid_time'].unique()\n",
    "df_fcast = df_fcast.reindex(index=days)\n",
    "df_fcast"
   ]
  },
  {
   "cell_type": "markdown",
   "id": "dab1401f",
   "metadata": {},
   "source": [
    "And make a plot (similar to plotting in [05_Ensemble_Analysis.ipynb](05_Ensemble_Analysis.ipynb), but without specifying the plant_number/point, since there is only one plant this time)."
   ]
  },
  {
   "cell_type": "code",
   "execution_count": 17,
   "id": "4cbc3d71",
   "metadata": {},
   "outputs": [
    {
     "data": {
      "image/png": "[encoded data removed]",
      "text/plain": [
       "<Figure size 640x500 with 2 Axes>"
      ]
     },
     "metadata": {},
     "output_type": "display_data"
    }
   ],
   "source": [
    "fig, (ax1, ax2) = plt.subplots(2, sharex=True, figsize=(6.4, 5), height_ratios=[3, 1])\n",
    "\n",
    "startidx=0\n",
    "endidx=162\n",
    "\n",
    "plant_number = 0 # use 0 since there is only one plant...\n",
    "for member in member_list:\n",
    "    df_temp = power_fcasts_ens_all[(power_fcasts_ens_all['member'] == member)]['power']\n",
    "    ax1.plot(df_temp.index, df_temp.values, label=('ens mem ' + str(member)), drawstyle='steps-pre', color='k', linewidth=1, alpha=0.5)\n",
    "\n",
    "ax1.set_ylabel('Power (MW)')\n",
    "handles, labels = ax1.get_legend_handles_labels()\n",
    "ax1.legend(['ensemble fcasts'], loc='upper right')\n",
    "\n",
    "# second subplot\n",
    "df_temp = df_fcast[df_fcast['point']==plant_number]['lowest_day_count']\n",
    "df_temp.index = df_temp.index + pd.Timedelta('12h')\n",
    "labels = df_temp.index.strftime('%Y-%m-%d')\n",
    "\n",
    "p = ax2.bar(df_temp.index, df_temp.values)\n",
    "\n",
    "# add labels\n",
    "ax2.bar_label(p, label_type='center')\n",
    "\n",
    "ax2.set_xlabel('Date')\n",
    "ax2.set_ylabel('Ensemble members \\nwith lowest day')\n",
    "\n",
    "fig.autofmt_xdate()"
   ]
  }
 ],
 "metadata": {
  "kernelspec": {
   "display_name": "pvsc_forecaster_2025",
   "language": "python",
   "name": "python3"
  },
  "language_info": {
   "codemirror_mode": {
    "name": "ipython",
    "version": 3
   },
   "file_extension": ".py",
   "mimetype": "text/x-python",
   "name": "python",
   "nbconvert_exporter": "python",
   "pygments_lexer": "ipython3",
   "version": "3.12.8"
  }
 },
 "nbformat": 4,
 "nbformat_minor": 5
}
